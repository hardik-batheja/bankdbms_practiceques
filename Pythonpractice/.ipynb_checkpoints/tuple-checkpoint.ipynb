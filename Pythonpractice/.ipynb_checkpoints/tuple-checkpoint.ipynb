{
 "cells": [
  {
   "cell_type": "code",
   "execution_count": 3,
   "id": "db4fb095",
   "metadata": {},
   "outputs": [
    {
     "name": "stdout",
     "output_type": "stream",
     "text": [
      "['python', '.net', 'java']\n",
      "['python', '.net', 'java', 'C', 'C#']\n",
      "['python', 'C', '.net', 'java', 'C', 'C#']\n",
      "['python', '.net', 'java', 'C', 'C#']\n",
      "['.net', 'C', 'C#', 'java', 'python']\n",
      "['python', 'java', 'C#', 'C', '.net']\n"
     ]
    }
   ],
   "source": [
    "list1=['python','.net']\n",
    "list1.append(\"java\")\n",
    "print(list1)\n",
    "list1.extend(['C','C#'])\n",
    "print(list1)\n",
    "list1.insert(1,'C')\n",
    "print(list1)\n",
    "list1.remove('C')\n",
    "print(list1)\n",
    "list1.sort()\n",
    "print(sorted(list1))\n",
    "print(list1[::-1])"
   ]
  },
  {
   "cell_type": "code",
   "execution_count": null,
   "id": "2da51b05",
   "metadata": {},
   "outputs": [],
   "source": []
  }
 ],
 "metadata": {
  "kernelspec": {
   "display_name": "Python 3 (ipykernel)",
   "language": "python",
   "name": "python3"
  },
  "language_info": {
   "codemirror_mode": {
    "name": "ipython",
    "version": 3
   },
   "file_extension": ".py",
   "mimetype": "text/x-python",
   "name": "python",
   "nbconvert_exporter": "python",
   "pygments_lexer": "ipython3",
   "version": "3.9.12"
  }
 },
 "nbformat": 4,
 "nbformat_minor": 5
}
