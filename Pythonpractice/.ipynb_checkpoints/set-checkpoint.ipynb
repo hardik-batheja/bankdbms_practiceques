{
 "cells": [
  {
   "cell_type": "code",
   "execution_count": 2,
   "id": "961f8463",
   "metadata": {},
   "outputs": [
    {
     "name": "stdout",
     "output_type": "stream",
     "text": [
      "{'apple', 'banana', 'cherry'}\n"
     ]
    }
   ],
   "source": [
    "thisset={\"apple\",\"banana\",\"cherry\"}\n",
    "print(thisset)"
   ]
  },
  {
   "cell_type": "code",
   "execution_count": 3,
   "id": "b77f2615",
   "metadata": {},
   "outputs": [
    {
     "name": "stdout",
     "output_type": "stream",
     "text": [
      "{'apple', 'banana', 'cherry'}\n"
     ]
    }
   ],
   "source": [
    "thisset={\"apple\",\"banana\",\"cherry\",\"apple\"}\n",
    "print(thisset)\n",
    "print(len(thisset))"
   ]
  },
  {
   "cell_type": "code",
   "execution_count": 13,
   "id": "c652a03d",
   "metadata": {},
   "outputs": [
    {
     "name": "stdout",
     "output_type": "stream",
     "text": [
      "{'apple', 'banana', 'cherry'}\n",
      "apple\n",
      "banana\n",
      "cherry\n",
      "\n",
      " True\n",
      "{'apple', 'orange', 'banana', 'cherry'}\n",
      "{'papaya', 'pineapple', 'orange', 'cherry', 'apple', 'mango', 'banana'}\n"
     ]
    }
   ],
   "source": [
    "thisset=set((\"apple\",\"banana\",\"cherry\"))\n",
    "print(thisset)\n",
    "for x in thisset:\n",
    "    print(x)\n",
    "print(\"\\n\",\"banana\" in thisset)\n",
    "thisset.add(\"orange\")\n",
    "print(thisset)\n",
    "tropical={\"pineapple\",\"mango\",\"papaya\"}\n",
    "thisset.update(tropical)\n",
    "print(thisset)"
   ]
  },
  {
   "cell_type": "code",
   "execution_count": 27,
   "id": "0bf2e4eb",
   "metadata": {},
   "outputs": [
    {
     "name": "stdout",
     "output_type": "stream",
     "text": [
      "['apple', 'banana', 'cherry', 'kiwi', 'orange', 'papaya']\n",
      "{'orange', 'cherry', 'apple', 'kiwi', 'banana'}\n",
      "set()\n"
     ]
    }
   ],
   "source": [
    "thisset={\"apple\",\"banana\",\"cherry\",\"papaya\"}\n",
    "lst=[\"kiwi\",\"orange\"]\n",
    "thisset.update(lst)\n",
    "print(sorted(thisset))\n",
    "x=thisset.pop()\n",
    "print(thisset)\n",
    "thisset.clear()\n",
    "print(thisset)"
   ]
  },
  {
   "cell_type": "code",
   "execution_count": 23,
   "id": "bcdc2327",
   "metadata": {},
   "outputs": [],
   "source": [
    "del thisset\n",
    "# print(thisset)"
   ]
  },
  {
   "cell_type": "code",
   "execution_count": 31,
   "id": "d4d492b3",
   "metadata": {},
   "outputs": [
    {
     "name": "stdout",
     "output_type": "stream",
     "text": [
      "Negative\n",
      "Less\n",
      "Equal\n",
      "Greater\n"
     ]
    }
   ],
   "source": [
    "def compare_to_five(y):\n",
    "    n=5\n",
    "    if y>n:\n",
    "        return \"Greater\"\n",
    "    elif y<0:\n",
    "        return \"Negative\"\n",
    "    elif y<n:\n",
    "        return \"Less\"\n",
    "    else:\n",
    "        return \"Equal\"\n",
    "print(compare_to_five(-3))\n",
    "print(compare_to_five(3))\n",
    "print(compare_to_five(5))\n",
    "print(compare_to_five(8))\n"
   ]
  },
  {
   "cell_type": "code",
   "execution_count": 35,
   "id": "c2ffbb43",
   "metadata": {},
   "outputs": [
    {
     "name": "stdout",
     "output_type": "stream",
     "text": [
      "Python is fantastic\n",
      "Python is fantastic\n"
     ]
    }
   ],
   "source": [
    "x=\"awesome\"\n",
    "def myfunc():\n",
    "#     global x\n",
    "    x=\"fantastic\"\n",
    "    print(\"Python is \"+x)\n",
    "myfunc()\n",
    "print(\"Python is \"+x)"
   ]
  },
  {
   "cell_type": "code",
   "execution_count": 54,
   "id": "ea43e465",
   "metadata": {},
   "outputs": [
    {
     "name": "stdout",
     "output_type": "stream",
     "text": [
      "<class 'int'>\n",
      "<class 'int'>\n",
      "<class 'float'>\n",
      "<class 'float'>\n",
      "<class 'complex'>\n",
      "<class 'complex'>\n"
     ]
    }
   ],
   "source": [
    "a=-100\n",
    "b=32423111111234453452342342342\n",
    "c=12.54\n",
    "d=12E4\n",
    "e=6+3j\n",
    "f=1j\n",
    "print(type(a))\n",
    "print(type(b))\n",
    "print(type(c))\n",
    "print(type(d))\n",
    "print(type(e))\n",
    "print(type(f))"
   ]
  },
  {
   "cell_type": "code",
   "execution_count": 59,
   "id": "1494f05d",
   "metadata": {},
   "outputs": [
    {
     "name": "stdout",
     "output_type": "stream",
     "text": [
      "1.0\n",
      "<class 'float'>\n",
      "2\n",
      "<class 'int'>\n",
      "(2.8+0j)\n",
      "<class 'complex'>\n"
     ]
    }
   ],
   "source": [
    "x=1\n",
    "y=2.8\n",
    "\n",
    "a=float(x)\n",
    "print(a)\n",
    "print(type(a))\n",
    "\n",
    "a=int(y)\n",
    "print(a)\n",
    "print(type(a))\n",
    "\n",
    "a=complex(y)\n",
    "print(a)\n",
    "print(type(a))\n"
   ]
  },
  {
   "cell_type": "code",
   "execution_count": 1,
   "id": "cf1f6689",
   "metadata": {},
   "outputs": [
    {
     "name": "stdout",
     "output_type": "stream",
     "text": [
      "True\n",
      "True\n"
     ]
    }
   ],
   "source": [
    "print(bool(\"Hello\"))\n",
    "print(bool(15))"
   ]
  },
  {
   "cell_type": "code",
   "execution_count": 3,
   "id": "2975ff54",
   "metadata": {},
   "outputs": [
    {
     "data": {
      "text/plain": [
       "True"
      ]
     },
     "execution_count": 3,
     "metadata": {},
     "output_type": "execute_result"
    }
   ],
   "source": [
    "bool(\"abc\")\n",
    "bool(123)"
   ]
  },
  {
   "cell_type": "code",
   "execution_count": 4,
   "id": "021bf41d",
   "metadata": {},
   "outputs": [
    {
     "data": {
      "text/plain": [
       "False"
      ]
     },
     "execution_count": 4,
     "metadata": {},
     "output_type": "execute_result"
    }
   ],
   "source": [
    "bool(False)"
   ]
  },
  {
   "cell_type": "code",
   "execution_count": 5,
   "id": "54d368c3",
   "metadata": {},
   "outputs": [
    {
     "data": {
      "text/plain": [
       "False"
      ]
     },
     "execution_count": 5,
     "metadata": {},
     "output_type": "execute_result"
    }
   ],
   "source": [
    "bool(None)"
   ]
  },
  {
   "cell_type": "code",
   "execution_count": 6,
   "id": "3a9e0d48",
   "metadata": {},
   "outputs": [
    {
     "data": {
      "text/plain": [
       "False"
      ]
     },
     "execution_count": 6,
     "metadata": {},
     "output_type": "execute_result"
    }
   ],
   "source": [
    "bool([])"
   ]
  },
  {
   "cell_type": "code",
   "execution_count": 7,
   "id": "b571e359",
   "metadata": {},
   "outputs": [
    {
     "data": {
      "text/plain": [
       "True"
      ]
     },
     "execution_count": 7,
     "metadata": {},
     "output_type": "execute_result"
    }
   ],
   "source": [
    "bool(123)"
   ]
  },
  {
   "cell_type": "code",
   "execution_count": 8,
   "id": "f3c4d486",
   "metadata": {},
   "outputs": [
    {
     "name": "stdout",
     "output_type": "stream",
     "text": [
      "True\n"
     ]
    }
   ],
   "source": [
    "def myfunction():\n",
    "    return True\n",
    "print(myfunction())"
   ]
  },
  {
   "cell_type": "code",
   "execution_count": 9,
   "id": "5a23e950",
   "metadata": {},
   "outputs": [
    {
     "name": "stdout",
     "output_type": "stream",
     "text": [
      "YES!\n"
     ]
    }
   ],
   "source": [
    "if myfunction():\n",
    "    print(\"YES!\")\n",
    "else:\n",
    "    print(\"NO\")"
   ]
  },
  {
   "cell_type": "code",
   "execution_count": 10,
   "id": "544621fb",
   "metadata": {},
   "outputs": [
    {
     "name": "stdout",
     "output_type": "stream",
     "text": [
      "4\n"
     ]
    }
   ],
   "source": [
    "def fn(str):\n",
    "    print(str)\n",
    "    return\n",
    "fn(4)"
   ]
  },
  {
   "cell_type": "code",
   "execution_count": null,
   "id": "a96aed1b",
   "metadata": {},
   "outputs": [],
   "source": [
    "def fn(mylist):\n",
    "    mylist=[1,2,3,4];\n",
    "    print(mylist)\n",
    "    return\n",
    "mylist=[10,20,30]\n",
    "\n",
    "print(mylist)\n",
    "fn(mylist)\n",
    "print(mylist)"
   ]
  },
  {
   "cell_type": "code",
   "execution_count": 12,
   "id": "a2f2b6ea",
   "metadata": {},
   "outputs": [
    {
     "name": "stdout",
     "output_type": "stream",
     "text": [
      "Name: HS\n",
      "Age: 22\n"
     ]
    }
   ],
   "source": [
    "def fn(name,age):\n",
    "    print(\"Name:\",name)\n",
    "    print(\"Age:\",age)\n",
    "    return\n",
    "fn(\"HS\",22)"
   ]
  },
  {
   "cell_type": "code",
   "execution_count": null,
   "id": "a18ecd3e",
   "metadata": {},
   "outputs": [],
   "source": [
    "def fn(str):\n",
    "    print(str)\n",
    "    return\n",
    "fn(str=\"My String\")"
   ]
  },
  {
   "cell_type": "code",
   "execution_count": null,
   "id": "3fed8bce",
   "metadata": {},
   "outputs": [],
   "source": [
    "x=88\n"
   ]
  },
  {
   "cell_type": "code",
   "execution_count": null,
   "id": "e831a54a",
   "metadata": {},
   "outputs": [],
   "source": [
    "x"
   ]
  },
  {
   "cell_type": "code",
   "execution_count": null,
   "id": "f812ee22",
   "metadata": {},
   "outputs": [],
   "source": []
  }
 ],
 "metadata": {
  "kernelspec": {
   "display_name": "Python 3 (ipykernel)",
   "language": "python",
   "name": "python3"
  },
  "language_info": {
   "codemirror_mode": {
    "name": "ipython",
    "version": 3
   },
   "file_extension": ".py",
   "mimetype": "text/x-python",
   "name": "python",
   "nbconvert_exporter": "python",
   "pygments_lexer": "ipython3",
   "version": "3.9.12"
  },
  "widgets": {
   "application/vnd.jupyter.widget-state+json": {
    "state": {},
    "version_major": 2,
    "version_minor": 0
   }
  }
 },
 "nbformat": 4,
 "nbformat_minor": 5
}
