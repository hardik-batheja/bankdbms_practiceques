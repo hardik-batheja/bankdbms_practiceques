{
 "cells": [
  {
   "cell_type": "code",
   "execution_count": 1,
   "id": "7e06a4fe",
   "metadata": {},
   "outputs": [
    {
     "data": {
      "text/plain": [
       "'hello Python'"
      ]
     },
     "execution_count": 1,
     "metadata": {},
     "output_type": "execute_result"
    }
   ],
   "source": [
    "str_1=\"hello Python\"\n",
    "str_1"
   ]
  },
  {
   "cell_type": "code",
   "execution_count": 4,
   "id": "c509ccc2",
   "metadata": {},
   "outputs": [
    {
     "data": {
      "text/plain": [
       "'helloPython'"
      ]
     },
     "execution_count": 4,
     "metadata": {},
     "output_type": "execute_result"
    }
   ],
   "source": [
    "str2=\"hello\"+\"Python\"\n",
    "str2"
   ]
  },
  {
   "cell_type": "code",
   "execution_count": 8,
   "id": "43605081",
   "metadata": {},
   "outputs": [
    {
     "data": {
      "text/plain": [
       "'hello Python, hello Python, hello Python, '"
      ]
     },
     "execution_count": 8,
     "metadata": {},
     "output_type": "execute_result"
    }
   ],
   "source": [
    "str3=(str_1+\", \")*3\n",
    "str3"
   ]
  },
  {
   "cell_type": "code",
   "execution_count": null,
   "id": "ec74a70c",
   "metadata": {},
   "outputs": [],
   "source": []
  }
 ],
 "metadata": {
  "kernelspec": {
   "display_name": "Python 3 (ipykernel)",
   "language": "python",
   "name": "python3"
  },
  "language_info": {
   "codemirror_mode": {
    "name": "ipython",
    "version": 3
   },
   "file_extension": ".py",
   "mimetype": "text/x-python",
   "name": "python",
   "nbconvert_exporter": "python",
   "pygments_lexer": "ipython3",
   "version": "3.9.12"
  }
 },
 "nbformat": 4,
 "nbformat_minor": 5
}
