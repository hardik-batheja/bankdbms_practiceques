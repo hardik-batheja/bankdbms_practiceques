{
 "cells": [
  {
   "cell_type": "code",
   "execution_count": 1,
   "id": "22b72391",
   "metadata": {},
   "outputs": [
    {
     "data": {
      "text/plain": [
       "'hello Python'"
      ]
     },
     "execution_count": 1,
     "metadata": {},
     "output_type": "execute_result"
    }
   ],
   "source": [
    "str_1=\"Hello Python\"\n",
    "str_1"
   ]
  },
  {
   "cell_type": "code",
   "execution_count": 4,
   "id": "dc86ea47",
   "metadata": {},
   "outputs": [
    {
     "data": {
      "text/plain": [
       "'helloPython'"
      ]
     },
     "execution_count": 4,
     "metadata": {},
     "output_type": "execute_result"
    }
   ],
   "source": [
    "str2=\"hello\"+\"Python\"\n",
    "str2"
   ]
  },
  {
   "cell_type": "code",
   "execution_count": 9,
   "id": "4a39adca",
   "metadata": {},
   "outputs": [
    {
     "data": {
      "text/plain": [
       "'hello Python, hello Python, hello Python, '"
      ]
     },
     "execution_count": 9,
     "metadata": {},
     "output_type": "execute_result"
    }
   ],
   "source": [
    "str3=(str_1+\", \")*3\n",
    "str3"
   ]
  },
  {
   "cell_type": "code",
   "execution_count": 12,
   "id": "2fdb0ec4",
   "metadata": {},
   "outputs": [
    {
     "data": {
      "text/plain": [
       "['1', ' 2', ' 3', ' 4', ' 5']"
      ]
     },
     "execution_count": 12,
     "metadata": {},
     "output_type": "execute_result"
    }
   ],
   "source": [
    "str4=\"1x 2x 3x 4x 5\"\n",
    "str4.split(\"x\")"
   ]
  },
  {
   "cell_type": "code",
   "execution_count": 13,
   "id": "856071b5",
   "metadata": {},
   "outputs": [
    {
     "data": {
      "text/plain": [
       "'HELLO PYTHON'"
      ]
     },
     "execution_count": 13,
     "metadata": {},
     "output_type": "execute_result"
    }
   ],
   "source": [
    "str_1.upper()"
   ]
  },
  {
   "cell_type": "code",
   "execution_count": 15,
   "id": "73fb376d",
   "metadata": {},
   "outputs": [
    {
     "data": {
      "text/plain": [
       "'hello Python'"
      ]
     },
     "execution_count": 15,
     "metadata": {},
     "output_type": "execute_result"
    }
   ],
   "source": [
    "str1=\"    hello Python     \"\n",
    "str1.strip()"
   ]
  },
  {
   "cell_type": "code",
   "execution_count": 16,
   "id": "fba8ac9a",
   "metadata": {},
   "outputs": [
    {
     "data": {
      "text/plain": [
       "'hello Python       '"
      ]
     },
     "execution_count": 16,
     "metadata": {},
     "output_type": "execute_result"
    }
   ],
   "source": [
    "str1.lstrip()"
   ]
  },
  {
   "cell_type": "code",
   "execution_count": 17,
   "id": "9ebc36c3",
   "metadata": {},
   "outputs": [
    {
     "data": {
      "text/plain": [
       "'    hello Python'"
      ]
     },
     "execution_count": 17,
     "metadata": {},
     "output_type": "execute_result"
    }
   ],
   "source": [
    "str1.rstrip()"
   ]
  },
  {
   "cell_type": "code",
   "execution_count": 18,
   "id": "3b0bbdce",
   "metadata": {},
   "outputs": [
    {
     "name": "stdout",
     "output_type": "stream",
     "text": [
      "True\n",
      "True\n"
     ]
    }
   ],
   "source": [
    "txt=\"the best things in life are free!!!\"\n",
    "print(\"expensive\" not in txt)\n",
    "print(\"free\" in txt)"
   ]
  },
  {
   "cell_type": "code",
   "execution_count": 19,
   "id": "ec4abca6",
   "metadata": {},
   "outputs": [
    {
     "name": "stdout",
     "output_type": "stream",
     "text": [
      "    hello python       \n"
     ]
    }
   ],
   "source": [
    "print(str_1.lower())"
   ]
  },
  {
   "cell_type": "code",
   "execution_count": 20,
   "id": "cfa813b9",
   "metadata": {},
   "outputs": [
    {
     "name": "stdout",
     "output_type": "stream",
     "text": [
      "My name is Harry and I am 22\n"
     ]
    }
   ],
   "source": [
    "age=22\n",
    "txt=\"My name is Harry and I am {}\"\n",
    "print(txt.format(age))"
   ]
  },
  {
   "cell_type": "code",
   "execution_count": 23,
   "id": "8f263682",
   "metadata": {},
   "outputs": [
    {
     "name": "stdout",
     "output_type": "stream",
     "text": [
      "    hello Python       3\n"
     ]
    }
   ],
   "source": [
    "ver=3\n",
    "print(str_1+str(ver))"
   ]
  },
  {
   "cell_type": "code",
   "execution_count": 25,
   "id": "a30049b5",
   "metadata": {},
   "outputs": [
    {
     "name": "stdout",
     "output_type": "stream",
     "text": [
      "In FunA  100 200 300 40\n",
      "In FunB 1000 2000 300 40\n",
      "In FunB 10000 2000 300 40\n",
      "In __main__ 10 20 30 40\n"
     ]
    }
   ],
   "source": [
    "a,b,c,d=10,20,30,40\n",
    "def FunA():\n",
    "    a,b,c=100,200,300\n",
    "    print(\"In FunA \",a,b,c,d)\n",
    "    def FunB():\n",
    "        a,b=1000,2000\n",
    "        print(\"In FunB\",a,b,c,d)\n",
    "        def FunC():\n",
    "            a=10000\n",
    "            print(\"In FunB\",a,b,c,d)\n",
    "        FunC()\n",
    "    FunB()\n",
    "FunA()\n",
    "print(\"In __main__\",a,b,c,d)\n",
    "        "
   ]
  },
  {
   "cell_type": "code",
   "execution_count": 26,
   "id": "db829bf6",
   "metadata": {},
   "outputs": [
    {
     "name": "stdout",
     "output_type": "stream",
     "text": [
      "[4, 5, 6]\n",
      "[1, 2, 3]\n"
     ]
    }
   ],
   "source": [
    "list1=[1,2,3]\n",
    "list2=[4,5,6]\n",
    "list3=[]\n",
    "list3=list2\n",
    "list2=list1\n",
    "list1=list3\n",
    "print(list1)\n",
    "print(list2)"
   ]
  },
  {
   "cell_type": "code",
   "execution_count": null,
   "id": "bec0862e",
   "metadata": {},
   "outputs": [],
   "source": [
    "="
   ]
  }
 ],
 "metadata": {
  "kernelspec": {
   "display_name": "Python 3 (ipykernel)",
   "language": "python",
   "name": "python3"
  },
  "language_info": {
   "codemirror_mode": {
    "name": "ipython",
    "version": 3
   },
   "file_extension": ".py",
   "mimetype": "text/x-python",
   "name": "python",
   "nbconvert_exporter": "python",
   "pygments_lexer": "ipython3",
   "version": "3.9.12"
  }
 },
 "nbformat": 4,
 "nbformat_minor": 5
}
