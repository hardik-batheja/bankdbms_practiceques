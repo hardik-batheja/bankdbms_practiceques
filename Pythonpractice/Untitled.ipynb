{
 "cells": [
  {
   "cell_type": "code",
   "execution_count": 1,
   "id": "f3159498",
   "metadata": {},
   "outputs": [
    {
     "name": "stdout",
     "output_type": "stream",
     "text": [
      "Help on Infant in module __main__ object:\n",
      "\n",
      "class Infant(builtins.object)\n",
      " |  Data descriptors defined here:\n",
      " |  \n",
      " |  __dict__\n",
      " |      dictionary for instance variables (if defined)\n",
      " |  \n",
      " |  __weakref__\n",
      " |      list of weak references to the object (if defined)\n",
      "\n"
     ]
    }
   ],
   "source": [
    "class Infant:\n",
    "    pass;\n",
    "child=Infant()\n",
    "help(child)"
   ]
  },
  {
   "cell_type": "code",
   "execution_count": 4,
   "id": "e72d9ef8",
   "metadata": {},
   "outputs": [
    {
     "name": "stdout",
     "output_type": "stream",
     "text": [
      "Started crawling\n"
     ]
    }
   ],
   "source": [
    "class Infant:\n",
    "    def Walk(self):\n",
    "        print(\"Started crawling\")\n",
    "child=Infant()\n",
    "child.Walk()"
   ]
  },
  {
   "cell_type": "code",
   "execution_count": 13,
   "id": "7af5ac86",
   "metadata": {},
   "outputs": [
    {
     "name": "stdout",
     "output_type": "stream",
     "text": [
      "Walk - Mom\n",
      "The address of self is  2245681559248\n",
      "Walk - Mom\n",
      "The address of self is  2245663363280\n",
      "The address of child is 2245681559248\n"
     ]
    }
   ],
   "source": [
    "class Mom:\n",
    "    def Walk(self):\n",
    "        print(\"Walk - Mom\")\n",
    "        print(\"The address of self is \",id(self))\n",
    "\n",
    "class Infant(Mom):\n",
    "    def Walkm(self):\n",
    "        print(\"Walk - Mom\")\n",
    "        print(\"The address of self is \",id(self))\n",
    "    pass\n",
    "child=Infant()\n",
    "child.Walk()\n",
    "# child.Walkm()\n",
    "mom=Mom()\n",
    "mom.Walk()\n",
    "print(\"The address of child is\",id(child))\n",
    "\n",
    "# Mother=Mom()\n",
    "# print(type(Mom.Walk))\n",
    "# print(type(Mother.Walk))"
   ]
  },
  {
   "cell_type": "code",
   "execution_count": 16,
   "id": "7134697b",
   "metadata": {},
   "outputs": [
    {
     "name": "stdout",
     "output_type": "stream",
     "text": [
      "Public hai\n",
      "ye wala Protected\n"
     ]
    }
   ],
   "source": [
    "class Example():\n",
    "    def __init__(self):\n",
    "        self.__private=\"me Private\"\n",
    "        self._protected=\"ye wala Protected\"\n",
    "        self.public=\"Public hai\"\n",
    "        \n",
    "ob=Example()\n",
    "print(ob.public)\n",
    "print(ob._protected)\n",
    "# print(ob.__private)"
   ]
  },
  {
   "cell_type": "code",
   "execution_count": 18,
   "id": "e4f07f5e",
   "metadata": {},
   "outputs": [
    {
     "name": "stdout",
     "output_type": "stream",
     "text": [
      "Constructed\n",
      "Destroyed\n"
     ]
    }
   ],
   "source": [
    "class Example():\n",
    "    def __init__(self):\n",
    "        print(\"Constructed\")\n",
    "    def __del__(self):\n",
    "        print(\"Destroyed\")\n",
    "ob=Example()\n",
    "del(ob)"
   ]
  },
  {
   "cell_type": "code",
   "execution_count": 29,
   "id": "c2ae1fac",
   "metadata": {},
   "outputs": [
    {
     "name": "stdout",
     "output_type": "stream",
     "text": [
      "2019 4 17\n",
      "2019 4 17\n",
      "2017 7 1\n",
      "2019\n",
      "2018\n",
      "2017\n"
     ]
    }
   ],
   "source": [
    "class date:\n",
    "    def __init__(self,day,month,year):\n",
    "        self.year=year\n",
    "        self.month=month\n",
    "        self.day=day\n",
    "    @classmethod\n",
    "    def myd(cls,month,year,day):\n",
    "        cls.day=day\n",
    "        cls.month=month\n",
    "        cls.year=year\n",
    "        return cls(cls.month,cls.day,cls.year)\n",
    "    @classmethod\n",
    "    def ydm(cls,year,day,month):\n",
    "        cls.day=day\n",
    "        cls.month=month\n",
    "        cls.year=year\n",
    "        return cls(cls.month,cls.day,cls.year)\n",
    "d1=date(17,4,2019)\n",
    "print(d1.year,d1.month,d1.day)\n",
    "d2=date.myd(4,2018,5)\n",
    "print(d1.year,d1.month,d1.day)\n",
    "d3=date.ydm(2017,7,1)\n",
    "print(d3.year,d3.month,d3.day)\n",
    "print(d1.year)\n",
    "print(d2.year)\n",
    "print(d3.year)"
   ]
  },
  {
   "cell_type": "code",
   "execution_count": null,
   "id": "70d8273f",
   "metadata": {},
   "outputs": [],
   "source": []
  }
 ],
 "metadata": {
  "kernelspec": {
   "display_name": "Python 3 (ipykernel)",
   "language": "python",
   "name": "python3"
  },
  "language_info": {
   "codemirror_mode": {
    "name": "ipython",
    "version": 3
   },
   "file_extension": ".py",
   "mimetype": "text/x-python",
   "name": "python",
   "nbconvert_exporter": "python",
   "pygments_lexer": "ipython3",
   "version": "3.9.12"
  }
 },
 "nbformat": 4,
 "nbformat_minor": 5
}
