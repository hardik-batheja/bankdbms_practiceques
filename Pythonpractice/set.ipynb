{
 "cells": [
  {
   "cell_type": "code",
   "execution_count": 2,
   "id": "961f8463",
   "metadata": {},
   "outputs": [
    {
     "name": "stdout",
     "output_type": "stream",
     "text": [
      "{'apple', 'banana', 'cherry'}\n"
     ]
    }
   ],
   "source": [
    "thisset={\"apple\",\"banana\",\"cherry\"}\n",
    "print(thisset)"
   ]
  },
  {
   "cell_type": "code",
   "execution_count": 3,
   "id": "b77f2615",
   "metadata": {},
   "outputs": [
    {
     "name": "stdout",
     "output_type": "stream",
     "text": [
      "{'apple', 'banana', 'cherry'}\n"
     ]
    }
   ],
   "source": [
    "thisset={\"apple\",\"banana\",\"cherry\",\"apple\"}\n",
    "print(thisset)\n",
    "print(len(thisset))"
   ]
  },
  {
   "cell_type": "code",
   "execution_count": 13,
   "id": "c652a03d",
   "metadata": {},
   "outputs": [
    {
     "name": "stdout",
     "output_type": "stream",
     "text": [
      "{'apple', 'banana', 'cherry'}\n",
      "apple\n",
      "banana\n",
      "cherry\n",
      "\n",
      " True\n",
      "{'apple', 'orange', 'banana', 'cherry'}\n",
      "{'papaya', 'pineapple', 'orange', 'cherry', 'apple', 'mango', 'banana'}\n"
     ]
    }
   ],
   "source": [
    "thisset=set((\"apple\",\"banana\",\"cherry\"))\n",
    "print(thisset)\n",
    "for x in thisset:\n",
    "    print(x)\n",
    "print(\"\\n\",\"banana\" in thisset)\n",
    "thisset.add(\"orange\")\n",
    "print(thisset)\n",
    "tropical={\"pineapple\",\"mango\",\"papaya\"}\n",
    "thisset.update(tropical)\n",
    "print(thisset)"
   ]
  },
  {
   "cell_type": "code",
   "execution_count": 27,
   "id": "0bf2e4eb",
   "metadata": {},
   "outputs": [
    {
     "name": "stdout",
     "output_type": "stream",
     "text": [
      "['apple', 'banana', 'cherry', 'kiwi', 'orange', 'papaya']\n",
      "{'orange', 'cherry', 'apple', 'kiwi', 'banana'}\n",
      "set()\n"
     ]
    }
   ],
   "source": [
    "thisset={\"apple\",\"banana\",\"cherry\",\"papaya\"}\n",
    "lst=[\"kiwi\",\"orange\"]\n",
    "thisset.update(lst)\n",
    "print(sorted(thisset))\n",
    "x=thisset.pop()\n",
    "print(thisset)\n",
    "thisset.clear()\n",
    "print(thisset)"
   ]
  },
  {
   "cell_type": "code",
   "execution_count": 23,
   "id": "bcdc2327",
   "metadata": {},
   "outputs": [],
   "source": [
    "del thisset\n",
    "# print(thisset)"
   ]
  },
  {
   "cell_type": "code",
   "execution_count": 31,
   "id": "d4d492b3",
   "metadata": {},
   "outputs": [
    {
     "name": "stdout",
     "output_type": "stream",
     "text": [
      "Negative\n",
      "Less\n",
      "Equal\n",
      "Greater\n"
     ]
    }
   ],
   "source": [
    "def compare_to_five(y):\n",
    "    n=5\n",
    "    if y>n:\n",
    "        return \"Greater\"\n",
    "    elif y<0:\n",
    "        return \"Negative\"\n",
    "    elif y<n:\n",
    "        return \"Less\"\n",
    "    else:\n",
    "        return \"Equal\"\n",
    "print(compare_to_five(-3))\n",
    "print(compare_to_five(3))\n",
    "print(compare_to_five(5))\n",
    "print(compare_to_five(8))\n"
   ]
  },
  {
   "cell_type": "code",
   "execution_count": 35,
   "id": "c2ffbb43",
   "metadata": {},
   "outputs": [
    {
     "name": "stdout",
     "output_type": "stream",
     "text": [
      "Python is fantastic\n",
      "Python is fantastic\n"
     ]
    }
   ],
   "source": [
    "x=\"awesome\"\n",
    "def myfunc():\n",
    "#     global x\n",
    "    x=\"fantastic\"\n",
    "    print(\"Python is \"+x)\n",
    "myfunc()\n",
    "print(\"Python is \"+x)"
   ]
  },
  {
   "cell_type": "code",
   "execution_count": 54,
   "id": "ea43e465",
   "metadata": {},
   "outputs": [
    {
     "name": "stdout",
     "output_type": "stream",
     "text": [
      "<class 'int'>\n",
      "<class 'int'>\n",
      "<class 'float'>\n",
      "<class 'float'>\n",
      "<class 'complex'>\n",
      "<class 'complex'>\n"
     ]
    }
   ],
   "source": [
    "a=-100\n",
    "b=32423111111234453452342342342\n",
    "c=12.54\n",
    "d=12E4\n",
    "e=6+3j\n",
    "f=1j\n",
    "print(type(a))\n",
    "print(type(b))\n",
    "print(type(c))\n",
    "print(type(d))\n",
    "print(type(e))\n",
    "print(type(f))"
   ]
  },
  {
   "cell_type": "code",
   "execution_count": 59,
   "id": "1494f05d",
   "metadata": {},
   "outputs": [
    {
     "name": "stdout",
     "output_type": "stream",
     "text": [
      "1.0\n",
      "<class 'float'>\n",
      "2\n",
      "<class 'int'>\n",
      "(2.8+0j)\n",
      "<class 'complex'>\n"
     ]
    }
   ],
   "source": [
    "x=1\n",
    "y=2.8\n",
    "\n",
    "a=float(x)\n",
    "print(a)\n",
    "print(type(a))\n",
    "\n",
    "a=int(y)\n",
    "print(a)\n",
    "print(type(a))\n",
    "\n",
    "a=complex(y)\n",
    "print(a)\n",
    "print(type(a))\n"
   ]
  },
  {
   "cell_type": "code",
   "execution_count": 1,
   "id": "cf1f6689",
   "metadata": {},
   "outputs": [
    {
     "name": "stdout",
     "output_type": "stream",
     "text": [
      "True\n",
      "True\n"
     ]
    }
   ],
   "source": [
    "print(bool(\"Hello\"))\n",
    "print(bool(15))"
   ]
  },
  {
   "cell_type": "code",
   "execution_count": 3,
   "id": "2975ff54",
   "metadata": {},
   "outputs": [
    {
     "data": {
      "text/plain": [
       "True"
      ]
     },
     "execution_count": 3,
     "metadata": {},
     "output_type": "execute_result"
    }
   ],
   "source": [
    "bool(\"abc\")\n",
    "bool(123)"
   ]
  },
  {
   "cell_type": "code",
   "execution_count": 4,
   "id": "021bf41d",
   "metadata": {},
   "outputs": [
    {
     "data": {
      "text/plain": [
       "False"
      ]
     },
     "execution_count": 4,
     "metadata": {},
     "output_type": "execute_result"
    }
   ],
   "source": [
    "bool(False)"
   ]
  },
  {
   "cell_type": "code",
   "execution_count": 5,
   "id": "54d368c3",
   "metadata": {},
   "outputs": [
    {
     "data": {
      "text/plain": [
       "False"
      ]
     },
     "execution_count": 5,
     "metadata": {},
     "output_type": "execute_result"
    }
   ],
   "source": [
    "bool(None)"
   ]
  },
  {
   "cell_type": "code",
   "execution_count": 6,
   "id": "3a9e0d48",
   "metadata": {},
   "outputs": [
    {
     "data": {
      "text/plain": [
       "False"
      ]
     },
     "execution_count": 6,
     "metadata": {},
     "output_type": "execute_result"
    }
   ],
   "source": [
    "bool([])"
   ]
  },
  {
   "cell_type": "code",
   "execution_count": 7,
   "id": "b571e359",
   "metadata": {},
   "outputs": [
    {
     "data": {
      "text/plain": [
       "True"
      ]
     },
     "execution_count": 7,
     "metadata": {},
     "output_type": "execute_result"
    }
   ],
   "source": [
    "bool(123)"
   ]
  },
  {
   "cell_type": "code",
   "execution_count": 8,
   "id": "f3c4d486",
   "metadata": {},
   "outputs": [
    {
     "name": "stdout",
     "output_type": "stream",
     "text": [
      "True\n"
     ]
    }
   ],
   "source": [
    "def myfunction():\n",
    "    return True\n",
    "print(myfunction())"
   ]
  },
  {
   "cell_type": "code",
   "execution_count": 9,
   "id": "5a23e950",
   "metadata": {},
   "outputs": [
    {
     "name": "stdout",
     "output_type": "stream",
     "text": [
      "YES!\n"
     ]
    }
   ],
   "source": [
    "if myfunction():\n",
    "    print(\"YES!\")\n",
    "else:\n",
    "    print(\"NO\")"
   ]
  },
  {
   "cell_type": "code",
   "execution_count": 10,
   "id": "544621fb",
   "metadata": {},
   "outputs": [
    {
     "name": "stdout",
     "output_type": "stream",
     "text": [
      "4\n"
     ]
    }
   ],
   "source": [
    "def fn(str):\n",
    "    print(str)\n",
    "    return\n",
    "fn(4)"
   ]
  },
  {
   "cell_type": "code",
   "execution_count": 20,
   "id": "a96aed1b",
   "metadata": {},
   "outputs": [
    {
     "name": "stdout",
     "output_type": "stream",
     "text": [
      "[10, 20, 30]\n",
      "[10, 20, 30, [1, 2, 3, 4]]\n",
      "[10, 20, 30, [1, 2, 3, 4]]\n"
     ]
    }
   ],
   "source": [
    "def fn(mylist):\n",
    "    mylist.append([1,2,3,4]);\n",
    "    print(mylist)\n",
    "    return\n",
    "mylist=[10,20,30]\n",
    "\n",
    "print(mylist)\n",
    "fn(mylist)\n",
    "print(mylist)"
   ]
  },
  {
   "cell_type": "code",
   "execution_count": 12,
   "id": "a2f2b6ea",
   "metadata": {},
   "outputs": [
    {
     "name": "stdout",
     "output_type": "stream",
     "text": [
      "Name: HS\n",
      "Age: 22\n"
     ]
    }
   ],
   "source": [
    "def fn(name,age):\n",
    "    print(\"Name:\",name)\n",
    "    print(\"Age:\",age)\n",
    "    return\n",
    "fn(\"HS\",22)"
   ]
  },
  {
   "cell_type": "code",
   "execution_count": 2,
   "id": "a18ecd3e",
   "metadata": {},
   "outputs": [
    {
     "name": "stdout",
     "output_type": "stream",
     "text": [
      "My String\n"
     ]
    }
   ],
   "source": [
    "def fn(str):\n",
    "    print(str)\n",
    "    return\n",
    "fn(str=\"My String\")"
   ]
  },
  {
   "cell_type": "code",
   "execution_count": 3,
   "id": "3fed8bce",
   "metadata": {},
   "outputs": [],
   "source": [
    "x=88\n"
   ]
  },
  {
   "cell_type": "code",
   "execution_count": 4,
   "id": "e831a54a",
   "metadata": {},
   "outputs": [
    {
     "data": {
      "text/plain": [
       "88"
      ]
     },
     "execution_count": 4,
     "metadata": {},
     "output_type": "execute_result"
    }
   ],
   "source": [
    "x"
   ]
  },
  {
   "cell_type": "code",
   "execution_count": 5,
   "id": "f812ee22",
   "metadata": {},
   "outputs": [
    {
     "name": "stdout",
     "output_type": "stream",
     "text": [
      "Name: HS\n",
      "Age: 35\n"
     ]
    }
   ],
   "source": [
    "def fn(name,age =35):\n",
    "    print(\"Name:\",name)\n",
    "    print(\"Age:\",age)\n",
    "    return\n",
    "fn(\"HS\")"
   ]
  },
  {
   "cell_type": "code",
   "execution_count": 9,
   "id": "c62fea1e",
   "metadata": {
    "scrolled": true
   },
   "outputs": [
    {
     "name": "stdout",
     "output_type": "stream",
     "text": [
      "Output is: \n",
      "10\n",
      "Output is: \n",
      "70\n",
      "Hi\n",
      "60\n",
      "Hi\n",
      "50\n"
     ]
    }
   ],
   "source": [
    "def fn(arg1,*v):\n",
    "    print(\"Output is: \")\n",
    "    print(arg1)\n",
    "    for var in v:\n",
    "        print(\"Hi\")\n",
    "        print(var)\n",
    "fn(10)\n",
    "fn(70,60,50)"
   ]
  },
  {
   "cell_type": "code",
   "execution_count": 12,
   "id": "3fff20d4",
   "metadata": {},
   "outputs": [
    {
     "name": "stdout",
     "output_type": "stream",
     "text": [
      "Value of Total 30\n"
     ]
    }
   ],
   "source": [
    "sum = lambda arg1,arg2: arg1+arg2\n",
    "print(\"Value of Total\",sum(10,20))"
   ]
  },
  {
   "cell_type": "code",
   "execution_count": 13,
   "id": "3a4c6ccf",
   "metadata": {},
   "outputs": [
    {
     "name": "stdout",
     "output_type": "stream",
     "text": [
      "15\n",
      "11\n",
      "18\n"
     ]
    }
   ],
   "source": [
    "x = lambda a:a+10\n",
    "print(x(5))\n",
    "\n",
    "x = lambda a,b:a+b\n",
    "print(x(5,6))\n",
    "\n",
    "x = lambda a,b,c:a+b+c\n",
    "print(x(5,6,7))"
   ]
  },
  {
   "cell_type": "code",
   "execution_count": 18,
   "id": "e315878a",
   "metadata": {},
   "outputs": [
    {
     "name": "stdout",
     "output_type": "stream",
     "text": [
      "<function myfunc.<locals>.<lambda> at 0x000002B052C4DF70>\n",
      "22\n"
     ]
    }
   ],
   "source": [
    "def myfunc(n):\n",
    "    return lambda a:a*n\n",
    "mydoubler = myfunc(2)\n",
    "print(myfunc(2))\n",
    "print(mydoubler(11))"
   ]
  },
  {
   "cell_type": "code",
   "execution_count": 21,
   "id": "be305a41",
   "metadata": {},
   "outputs": [],
   "source": [
    "thisdict={\n",
    "    \"brand\":\"ford\",\n",
    "    \"electric\":False,\n",
    "    \"year\":1920,\n",
    "    \"colours\":[\"red\",\"white\"]\n",
    "}"
   ]
  },
  {
   "cell_type": "code",
   "execution_count": 22,
   "id": "32d12eb5",
   "metadata": {},
   "outputs": [
    {
     "name": "stdout",
     "output_type": "stream",
     "text": [
      "dict_keys(['brand', 'electric', 'year'])\n",
      "dict_keys(['brand', 'electric', 'year', 'colour'])\n"
     ]
    }
   ],
   "source": [
    "car={\n",
    "    \"brand\":\"ford\",\n",
    "    \"electric\":\"mustang\",\n",
    "    \"year\":1290\n",
    "}\n",
    "x=car.keys()\n",
    "print(x)\n",
    "car[\"colour\"]=\"white\"\n",
    "print(x)"
   ]
  },
  {
   "cell_type": "code",
   "execution_count": 25,
   "id": "b0938b2d",
   "metadata": {},
   "outputs": [
    {
     "name": "stdout",
     "output_type": "stream",
     "text": [
      "{1: 'apple', 2: 'ball'} {'name': 'john', 1: [2, 4, 3]} {1: 'apple', 2: 'ball'} {1: 'apple', 2: 'ball'}\n"
     ]
    }
   ],
   "source": [
    "mydict={}\n",
    "dict1={1:'apple',2:'ball'}\n",
    "dict2={'name':'john',1:[2,4,3]}\n",
    "dict3=dict({1:'apple',2:'ball'})\n",
    "dict4=dict([(1,'apple'),(2,'ball')])\n",
    "print(dict1,dict2,dict3,dict4)"
   ]
  },
  {
   "cell_type": "code",
   "execution_count": 26,
   "id": "df2380fe",
   "metadata": {},
   "outputs": [
    {
     "name": "stdout",
     "output_type": "stream",
     "text": [
      "1996\n",
      "mustang\n",
      "None\n"
     ]
    }
   ],
   "source": [
    "thisdict={\"brand\":\"Ford\",\n",
    "         \"model\":\"mustang\",\n",
    "         \"year\":1996,\n",
    "         \"color\":[\"red\",\"blue\",\"pink\"]}\n",
    "print(thisdict.get('year'))\n",
    "print(thisdict[\"model\"])\n",
    "print(thisdict.get(\"address\"))\n",
    "#print(thisdict[\"address\"])"
   ]
  },
  {
   "cell_type": "code",
   "execution_count": 28,
   "id": "07c9b997",
   "metadata": {},
   "outputs": [
    {
     "name": "stdout",
     "output_type": "stream",
     "text": [
      "{'Math': 0, 'English': 0, 'Science': 0}\n",
      "('Math', 0)\n",
      "('English', 0)\n",
      "('Science', 0)\n",
      "['English', 'Math', 'Science']\n"
     ]
    }
   ],
   "source": [
    "marks={}.fromkeys(['Math','English','Science'],0)\n",
    "print(marks)\n",
    "for item in marks.items():\n",
    "    print(item)\n",
    "print(list(sorted(marks.keys())))"
   ]
  },
  {
   "cell_type": "code",
   "execution_count": 29,
   "id": "41675051",
   "metadata": {},
   "outputs": [
    {
     "name": "stdout",
     "output_type": "stream",
     "text": [
      "{0: 0, 1: 1, 2: 4, 3: 9, 4: 16, 5: 25}\n",
      "{0: 0, 1: 1, 2: 4, 3: 9, 4: 16, 5: 25}\n"
     ]
    }
   ],
   "source": [
    "squares ={x: x*x for x in range(6)}\n",
    "print(squares)\n",
    "\n",
    "squares={}\n",
    "for x in range(6):\n",
    "    squares[x] = x*x\n",
    "print(squares)"
   ]
  },
  {
   "cell_type": "code",
   "execution_count": 30,
   "id": "b681a4ab",
   "metadata": {},
   "outputs": [
    {
     "name": "stdout",
     "output_type": "stream",
     "text": [
      "True\n",
      "True\n",
      "False\n"
     ]
    }
   ],
   "source": [
    "squares = {1: 1, 3: 9, 5: 25, 7:49, 9:81}\n",
    "print(1 in squares)\n",
    "print(2 not in squares)\n",
    "print(49 in squares)"
   ]
  },
  {
   "cell_type": "code",
   "execution_count": 32,
   "id": "f803e79c",
   "metadata": {},
   "outputs": [
    {
     "name": "stdout",
     "output_type": "stream",
     "text": [
      "1\n",
      "9\n",
      "25\n",
      "49\n",
      "81\n"
     ]
    }
   ],
   "source": [
    "for i in squares:\n",
    "    print(squares[i])"
   ]
  },
  {
   "cell_type": "code",
   "execution_count": 33,
   "id": "5004f210",
   "metadata": {},
   "outputs": [
    {
     "name": "stdout",
     "output_type": "stream",
     "text": [
      "{'name': 'Dionysia', 'age': 28}\n",
      "Athens\n"
     ]
    }
   ],
   "source": [
    "my_information = {'name': 'Dionysia', 'age': 28, 'location': 'Athens'}\n",
    "city = my_information.pop('location')\n",
    "print(my_information)\n",
    "print(city)"
   ]
  },
  {
   "cell_type": "code",
   "execution_count": 34,
   "id": "fcbf67ed",
   "metadata": {},
   "outputs": [
    {
     "name": "stdout",
     "output_type": "stream",
     "text": [
      "not found\n"
     ]
    }
   ],
   "source": [
    "oc = my_information.pop('occupation','not found')\n",
    "print(oc)"
   ]
  },
  {
   "cell_type": "code",
   "execution_count": 35,
   "id": "91d7bd0b",
   "metadata": {},
   "outputs": [
    {
     "name": "stdout",
     "output_type": "stream",
     "text": [
      "{'child1': {'name': 'Emil', 'year': 2004}, 'child2': {'name': 'Tobias', 'year': 2007}, 'child3': {'name': 'Linus', 'year': 2011}}\n"
     ]
    }
   ],
   "source": [
    "dic={\n",
    "    \"child1\" : {\n",
    "        \"name\" : \"Emil\",\n",
    "        \"year\" : 2004\n",
    "    },\n",
    "    \"child2\" : {\n",
    "        \"name\" : \"Tobias\",\n",
    "        \"year\" : 2007\n",
    "    },\n",
    "    \"child3\" : {\n",
    "        \"name\" : \"Linus\",\n",
    "        \"year\" : 2011\n",
    "    }\n",
    "}\n",
    "print(dic)"
   ]
  },
  {
   "cell_type": "code",
   "execution_count": 36,
   "id": "17c9a739",
   "metadata": {},
   "outputs": [
    {
     "name": "stdout",
     "output_type": "stream",
     "text": [
      "{'child1': {'name': 'Emil', 'year': 2004}, 'child2': {'name': 'Tobias', 'year': 2007}, 'child3': {'name': 'Linus', 'year': 2011}}\n"
     ]
    }
   ],
   "source": [
    "a1 = {\n",
    "        \"name\" : \"Emil\",\n",
    "        \"year\" : 2004\n",
    "    }\n",
    "a2 = {\n",
    "        \"name\" : \"Tobias\",\n",
    "        \"year\" : 2007\n",
    "    }\n",
    "a3 = {\n",
    "        \"name\" : \"Linus\",\n",
    "        \"year\" : 2011\n",
    "    }\n",
    "aa={\n",
    "    \"child1\" : a1,\n",
    "    \"child2\" : a2,\n",
    "    \"child3\" : a3\n",
    "}\n",
    "print(aa)"
   ]
  },
  {
   "cell_type": "code",
   "execution_count": null,
   "id": "44ab7de4",
   "metadata": {},
   "outputs": [],
   "source": []
  }
 ],
 "metadata": {
  "kernelspec": {
   "display_name": "Python 3 (ipykernel)",
   "language": "python",
   "name": "python3"
  },
  "language_info": {
   "codemirror_mode": {
    "name": "ipython",
    "version": 3
   },
   "file_extension": ".py",
   "mimetype": "text/x-python",
   "name": "python",
   "nbconvert_exporter": "python",
   "pygments_lexer": "ipython3",
   "version": "3.9.12"
  },
  "widgets": {
   "application/vnd.jupyter.widget-state+json": {
    "state": {},
    "version_major": 2,
    "version_minor": 0
   }
  }
 },
 "nbformat": 4,
 "nbformat_minor": 5
}
