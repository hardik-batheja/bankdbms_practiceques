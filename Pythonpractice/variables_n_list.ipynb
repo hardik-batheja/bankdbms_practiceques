{
 "cells": [
  {
   "cell_type": "code",
   "execution_count": 2,
   "id": "e222be59",
   "metadata": {},
   "outputs": [
    {
     "name": "stdout",
     "output_type": "stream",
     "text": [
      "Installed and tried\n"
     ]
    }
   ],
   "source": [
    "print(\"Installed and tried.\")"
   ]
  },
  {
   "cell_type": "code",
   "execution_count": 1,
   "id": "96c0a2a1",
   "metadata": {},
   "outputs": [
    {
     "name": "stdout",
     "output_type": "stream",
     "text": [
      "10 20\n",
      "<class 'int'>\n",
      "Hello\n",
      "<class 'str'>\n",
      "Hello Harry\n",
      "HelloHarry\n"
     ]
    }
   ],
   "source": [
    "x,y=10,20\n",
    "print(x,y)\n",
    "print(type(x))   #typeof\n",
    "x=\"Hello\"        #rewrite\n",
    "print(x)         #rewritten in new type\n",
    "print(type(x))   #new type\n",
    "X=\"Harry\"        #case-sensitive and wont overwrite\n",
    "print(x,X)       # ',' prints with a space\n",
    "print(x+X)       # '+' prints without any space\n",
    "X=5\n",
    "print(x,X)"
   ]
  },
  {
   "cell_type": "code",
   "execution_count": 2,
   "id": "f90b44d5",
   "metadata": {},
   "outputs": [
    {
     "name": "stdout",
     "output_type": "stream",
     "text": [
      "Python is fantastic!!!\n",
      "Python is awesome!!!\n"
     ]
    }
   ],
   "source": [
    "y=\"awesome!!!\"\n",
    "def  myfn():\n",
    "    y=\"fantastic!!!\"\n",
    "    print(\"Python is\",y)\n",
    "myfn()\n",
    "print(\"Python is \"+y)"
   ]
  },
  {
   "cell_type": "code",
   "execution_count": 6,
   "id": "21451632",
   "metadata": {},
   "outputs": [
    {
     "name": "stdout",
     "output_type": "stream",
     "text": [
      "Python is fantastic!!!\n"
     ]
    }
   ],
   "source": [
    "y=\"awesome!!!\"\n",
    "def  myfn():\n",
    "    global y\n",
    "    y=\"fantastic!!!\"\n",
    "#     print(\"Python is\",y)\n",
    "myfn()\n",
    "print(\"Python is \"+y)"
   ]
  },
  {
   "cell_type": "code",
   "execution_count": 12,
   "id": "cf158900",
   "metadata": {},
   "outputs": [],
   "source": [
    "print(x+10)"
   ]
  },
  {
   "cell_type": "code",
   "execution_count": 5,
   "id": "29853202",
   "metadata": {},
   "outputs": [
    {
     "name": "stdout",
     "output_type": "stream",
     "text": [
      "['apple', 'banana', 'cherry']\n",
      "['apple', 'banana', 'cherry']\n"
     ]
    }
   ],
   "source": [
    "mylist=['apple','banana','cherry']\n",
    "print(mylist)\n",
    "thislist=list(('apple','banana','cherry'))\n",
    "print(thislist)\n"
   ]
  },
  {
   "cell_type": "code",
   "execution_count": 6,
   "id": "adc132f2",
   "metadata": {},
   "outputs": [
    {
     "name": "stdout",
     "output_type": "stream",
     "text": [
      "['11', 1, 3]\n"
     ]
    },
    {
     "data": {
      "text/plain": [
       "'11'"
      ]
     },
     "execution_count": 6,
     "metadata": {},
     "output_type": "execute_result"
    }
   ],
   "source": [
    "lst=['11',1,3]\n",
    "print(lst)\n",
    "lst[0]"
   ]
  },
  {
   "cell_type": "code",
   "execution_count": 8,
   "id": "0dffd18b",
   "metadata": {},
   "outputs": [
    {
     "name": "stdout",
     "output_type": "stream",
     "text": [
      "3\n"
     ]
    }
   ],
   "source": [
    "print(len(mylist))"
   ]
  },
  {
   "cell_type": "code",
   "execution_count": 12,
   "id": "3125acbd",
   "metadata": {},
   "outputs": [
    {
     "name": "stdout",
     "output_type": "stream",
     "text": [
      "['apple', 'orange', 'cherry']\n"
     ]
    }
   ],
   "source": [
    "list1=['apple','banana','cherry']\n",
    "list2=[1,5,3,9,4]\n",
    "list3=[True,False,False]\n",
    "newlist=[x if x!=\"banana\" else \"orange\" for x in list1]\n",
    "print(newlist)"
   ]
  },
  {
   "cell_type": "code",
   "execution_count": 13,
   "id": "61910852",
   "metadata": {},
   "outputs": [
    {
     "name": "stdout",
     "output_type": "stream",
     "text": [
      "Hi!\n"
     ]
    }
   ],
   "source": [
    "print(\"Hi!\")"
   ]
  },
  {
   "cell_type": "code",
   "execution_count": 14,
   "id": "aefd0391",
   "metadata": {},
   "outputs": [
    {
     "name": "stdout",
     "output_type": "stream",
     "text": [
      "<class 'list'>\n"
     ]
    }
   ],
   "source": [
    "print(type(list1))"
   ]
  },
  {
   "cell_type": "code",
   "execution_count": 15,
   "id": "43670d4c",
   "metadata": {},
   "outputs": [
    {
     "name": "stdout",
     "output_type": "stream",
     "text": [
      "[1, 2, 3, 1, 2, 3]\n",
      "['a', 'b', 'c', 1, 2, 3]\n"
     ]
    }
   ],
   "source": [
    "list1=[\"a\",\"b\",\"c\"]\n",
    "list2=[1,2,3]\n",
    "list4=list2*2\n",
    "print(list4)\n",
    "list3=list1+list2\n",
    "print(list3)"
   ]
  },
  {
   "cell_type": "code",
   "execution_count": 18,
   "id": "bbb348d0",
   "metadata": {},
   "outputs": [
    {
     "name": "stdout",
     "output_type": "stream",
     "text": [
      "[1, 2, 3, 4]\n",
      "[1, 2]\n"
     ]
    }
   ],
   "source": [
    "list5=[0,1,2,3,4,5,6,7]\n",
    "print(list5[1:5])\n",
    "print(list5[1:3])"
   ]
  },
  {
   "cell_type": "code",
   "execution_count": 24,
   "id": "3dd86066",
   "metadata": {},
   "outputs": [
    {
     "name": "stdout",
     "output_type": "stream",
     "text": [
      "['apple', 'orange', 1997, 2001]\n",
      "[2000, 'orange', 1997, 2001]\n",
      "[2000, 'orange', 2001]\n"
     ]
    }
   ],
   "source": [
    "list1=[\"apple\",\"orange\",1997,2001]\n",
    "print(list1)\n",
    "list1[0]=2000\n",
    "print(list1)\n",
    "del(list1[2])\n",
    "print(list1)"
   ]
  },
  {
   "cell_type": "code",
   "execution_count": 41,
   "id": "21a603b1",
   "metadata": {},
   "outputs": [
    {
     "name": "stdout",
     "output_type": "stream",
     "text": [
      "[2, 3, 4]\n",
      "[0, 2, 4, 6]\n",
      "[0, 1, 2, 3, 4, 5, 6, 7, 8]\n",
      "[]\n",
      "[7, 8]\n",
      "[0, 1]\n"
     ]
    }
   ],
   "source": [
    "list2=[0,1,2,3,4,5,6,7,8]\n",
    "print(list2[2:5])\n",
    "print(list2[0:7:2])\n",
    "print(list2[0:])\n",
    "print(list2[-2:2])          #to is before from\n",
    "print(list2[-2:])\n",
    "print(list2[:2])"
   ]
  },
  {
   "cell_type": "code",
   "execution_count": 33,
   "id": "c51ce83f",
   "metadata": {},
   "outputs": [
    {
     "name": "stdout",
     "output_type": "stream",
     "text": [
      "Example 1: \n",
      "10\n",
      "3\n",
      "4\n",
      "5\n",
      "6\n",
      "7\n",
      "8\n",
      "Example 2: \n",
      "1 3\n",
      "2 4\n",
      "3 5\n",
      "Example 3: \n",
      "0 10\n",
      "2 4\n",
      "4 6\n"
     ]
    }
   ],
   "source": [
    "list2=[10,3,4,5,6,7,8]\n",
    "print(\"Example 1: \")\n",
    "for x in list2:\n",
    "    print(x)\n",
    "print(\"Example 2: \")\n",
    "for x in range(1,4):\n",
    "    print(x,list2[x])\n",
    "print(\"Example 3: \")\n",
    "for x in range(0,6,2):\n",
    "    print(x,list2[x])"
   ]
  },
  {
   "cell_type": "code",
   "execution_count": 34,
   "id": "a3c31f23",
   "metadata": {},
   "outputs": [
    {
     "name": "stdout",
     "output_type": "stream",
     "text": [
      "apple\n",
      "banana\n",
      "cherry\n"
     ]
    }
   ],
   "source": [
    "thislist=['apple','banana','cherry']\n",
    "i=0\n",
    "while i<len(thislist):\n",
    "    print(thislist[i])\n",
    "    i+=1"
   ]
  },
  {
   "cell_type": "code",
   "execution_count": 36,
   "id": "8a98eab5",
   "metadata": {},
   "outputs": [
    {
     "name": "stdout",
     "output_type": "stream",
     "text": [
      "['a', 'b', 'c', 1, 2, 3]\n"
     ]
    }
   ],
   "source": [
    "list1=[\"a\",\"b\",\"c\"]\n",
    "list2=[1,2,3]\n",
    "for x in list2:\n",
    "    list1.append(x)\n",
    "print(list1)\n"
   ]
  },
  {
   "cell_type": "code",
   "execution_count": 40,
   "id": "e4ce97ad",
   "metadata": {},
   "outputs": [
    {
     "name": "stdout",
     "output_type": "stream",
     "text": [
      "[0, 1, 2, 3, 4, 5, 6, 7, 8, 9] [0, 1, 2, 3, 4] ['APPLE', 'BANANA', 'CHERRY', 'KIWI']\n",
      "['hello', 'hello', 'hello', 'hello']\n",
      "['apple', 'banana']\n",
      "kiwi\n"
     ]
    }
   ],
   "source": [
    "fruits=['apple','banana','cherry','kiwi']\n",
    "newlist1=[x for x in range(10)]\n",
    "newlist2=[x for x in range(10) if x<5]\n",
    "newlist3=[x.upper() for x in fruits]\n",
    "print(newlist1,newlist2,newlist3)\n",
    "\n",
    "newlist3=[\"hello\" for x in fruits]\n",
    "print(newlist3)\n",
    "newlist=[]\n",
    "for x in fruits:\n",
    "    if 'a' in x:\n",
    "        newlist.append(x)\n",
    "print(newlist)\n",
    "print(fruits[-1])"
   ]
  },
  {
   "cell_type": "code",
   "execution_count": null,
   "id": "1fd4fcf0",
   "metadata": {},
   "outputs": [],
   "source": []
  }
 ],
 "metadata": {
  "kernelspec": {
   "display_name": "Python 3 (ipykernel)",
   "language": "python",
   "name": "python3"
  },
  "language_info": {
   "codemirror_mode": {
    "name": "ipython",
    "version": 3
   },
   "file_extension": ".py",
   "mimetype": "text/x-python",
   "name": "python",
   "nbconvert_exporter": "python",
   "pygments_lexer": "ipython3",
   "version": "3.9.12"
  }
 },
 "nbformat": 4,
 "nbformat_minor": 5
}
